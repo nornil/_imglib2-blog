{
 "cells": [
  {
   "cell_type": "markdown",
   "id": "97dd6fe4",
   "metadata": {},
   "source": [
    "# User-configurable Keymaps\n",
    "> How to set up user-configurable keyboard shortcuts using `ui-behaviour` and BigDataViewer's Preferences Dialog\n",
    "- toc: true\n",
    "- branch: master\n",
    "- badges: true\n",
    "- comments: true\n",
    "- author: Tobias Pietzsch\n",
    "- categories: [ui-behaviour, bigdataviewer]"
   ]
  },
  {
   "cell_type": "markdown",
   "id": "7b34996e",
   "metadata": {},
   "source": [
    "While developing the BDV Preferences dialog, a \"pattern\" has emerged of how we wire up the shortcut and action definitions. This tutorial explains the current recommended way of doing that. We give some background about using `ui-behaviour` etc. Feel free to just [skip to the end](#Recommended-pattern-for-defining-actions) for the recommended pattern."
   ]
  },
  {
   "cell_type": "markdown",
   "id": "cbde0dff",
   "metadata": {},
   "source": [
    "## Introduction\n",
    "In [BigDataViewer 10.4](https://forum.image.sc/t/new-bigdataviewer-version-10-4-1/68818) we added a Preferences dialog.\n",
    "This makes settings more user accessible, that previously could only be made through editing config files.\n",
    "In particular, users can now easily override BigDataViewer keybindings to their liking.\n",
    "\n",
    "It is also possible to define and switch between multiple sets of keybindings. For example, in Mastodon, we have predefined keymaps that have\n",
    "* basic BDV key bindings, but many shortcuts remapped to navigate along a cell lineage, or\n",
    "* full BDV key bindings, at the expense of more complicated shortcuts for cell lineage navigation.\n",
    "\n",
    "On top of these users can define their own completely customised keymaps.\n",
    "\n",
    "This is all based on `ui-bahaviour`, which several tools (BDV-based and otherwise) already use for managing shortcuts. While developing the Mastodon Preferences dialog, and now carrying over to BigDataViewer, a pattern has emerged of how we wire up the shortcut and action definitions.\n",
    "It would be great if this would become a blueprint for actions in other tools, because a) that will make the code easier to understand and b) facilitate reuse of action definitions across projects.\n",
    "\n",
    "We work towards the recommended pattern, from scratch, in a series of examples that you can also find [on github](https://github.com/tpietzsch/keyconfig-examples)."
   ]
  },
  {
   "cell_type": "code",
   "execution_count": 1,
   "id": "5ba18cd6",
   "metadata": {},
   "outputs": [],
   "source": [
    "%%loadFromPOM\n",
    "<repository>\n",
    "    <id>scijava.public</id>\n",
    "    <url>https://maven.scijava.org/content/groups/public</url>\n",
    "</repository>\n",
    "<dependency>\n",
    "    <groupId>sc.fiji</groupId>\n",
    "    <artifactId>bigdataviewer-core</artifactId>\n",
    "    <version>10.4.3</version>\n",
    "</dependency>\n",
    "<dependency>\n",
    "    <groupId>org.scijava</groupId>\n",
    "    <artifactId>ui-behaviour</artifactId>\n",
    "    <version>2.0.7</version>\n",
    "</dependency>"
   ]
  },
  {
   "cell_type": "markdown",
   "id": "68892102",
   "metadata": {},
   "source": [
    "## Setting up shortcuts through `ui-behaviour`\n",
    "Lets look at a basic example of integrating `ui-beahviour` in a AWT/Swing application.\n",
    "\n",
    "We need a minimal application to play with:\n",
    "`MainPanel` is a `JPanel` containing (only) a single `JLabel` displaying the text `\"hello\"`. The displayed text can be changed by the `setText(String)` method. We will use this to define different mock \"actions\"."
   ]
  },
  {
   "cell_type": "code",
   "execution_count": 2,
   "id": "6ebcaddf",
   "metadata": {},
   "outputs": [],
   "source": [
    "/*\n",
    "#hide\n",
    "*/\n",
    "import java.awt.BorderLayout;\n",
    "import java.awt.Dimension;\n",
    "import javax.swing.JFrame;\n",
    "import javax.swing.JLabel;\n",
    "import javax.swing.JPanel;\n",
    "import javax.swing.border.EmptyBorder;"
   ]
  },
  {
   "cell_type": "code",
   "execution_count": 3,
   "id": "a4f65731",
   "metadata": {},
   "outputs": [],
   "source": [
    "public class MainPanel extends JPanel\n",
    "{\n",
    "    private final JLabel label;\n",
    "\n",
    "    public MainPanel()\n",
    "    {\n",
    "        setLayout( new BorderLayout() );\n",
    "        setBorder( new EmptyBorder( 0, 20, 0, 0 ) );\n",
    "        setFocusable( true );\n",
    "\n",
    "        label = new JLabel( \"hello\" );\n",
    "        add( label, BorderLayout.CENTER );\n",
    "    }\n",
    "\n",
    "    public void setText( final String text )\n",
    "    {\n",
    "        label.setText( text );\n",
    "    }\n",
    "}"
   ]
  },
  {
   "cell_type": "markdown",
   "id": "6f2aaa87",
   "metadata": {},
   "source": [
    "Let's instantiate a `MainPanel` and show it in a `JFrame`."
   ]
  },
  {
   "cell_type": "code",
   "execution_count": 4,
   "id": "c5bd7ea4",
   "metadata": {},
   "outputs": [],
   "source": [
    "var frame = new JFrame( \"Keymaps Demo\" );\n",
    "var panel = new MainPanel();\n",
    "frame.add( panel );\n",
    "frame.setPreferredSize( new Dimension( 200, 100 ) );\n",
    "frame.pack();\n",
    "frame.setVisible( true );"
   ]
  },
  {
   "cell_type": "markdown",
   "id": "37417ffb",
   "metadata": {},
   "source": [
    "![MainPanel showing text \"hello\"](keymap_imgs/hello.png)"
   ]
  },
  {
   "cell_type": "code",
   "execution_count": 5,
   "id": "6646b82c",
   "metadata": {},
   "outputs": [],
   "source": [
    "/*\n",
    "#hide\n",
    "*/\n",
    "import javax.swing.JComponent;\n",
    "import javax.swing.SwingUtilities;"
   ]
  },
  {
   "cell_type": "markdown",
   "id": "57b46630",
   "metadata": {},
   "source": [
    "To set up `ui-behaviour` for the `panel`, we first need an instance of `InputActionBindings`"
   ]
  },
  {
   "cell_type": "code",
   "execution_count": 6,
   "id": "9bccd7eb",
   "metadata": {},
   "outputs": [],
   "source": [
    "import org.scijava.ui.behaviour.util.InputActionBindings;\n",
    "\n",
    "var bindings = new InputActionBindings();"
   ]
  },
  {
   "cell_type": "markdown",
   "id": "5c08205a",
   "metadata": {},
   "source": [
    "`InputActionBindings` bind inputs to actions.\n",
    "\n",
    "This is of course exactly what AWT/Swing's [Key Bindings](https://docs.oracle.com/javase/tutorial/uiswing/misc/keybinding.html) framework (`InputMap`, `ActionMap`) does.\n",
    "`InputActionBindings` adds very little over that; basically only more convenient `InputMap` chaining.\n",
    "\n",
    "Side note: The initial purpose of `ui-behaviour` was to offer a similar framework for mouse clicks, scrolls, drags, etc. Modeled after `InputMap` and `ActionMap`, there are `InputTriggerMap` and `BehaviourMap`.\n",
    "Analogous to `InputActionBindings` there is `TriggerBehaviourBindings`.\n",
    "\n",
    "Anyway, we connect the `InputActionBindings` instance to our `MainPanel` as follows."
   ]
  },
  {
   "cell_type": "code",
   "execution_count": 7,
   "id": "e58745e6",
   "metadata": {},
   "outputs": [],
   "source": [
    "SwingUtilities.replaceUIActionMap(\n",
    "    panel,\n",
    "    bindings.getConcatenatedActionMap() );\n",
    "SwingUtilities.replaceUIInputMap(\n",
    "    panel, JComponent.WHEN_ANCESTOR_OF_FOCUSED_COMPONENT,\n",
    "    bindings.getConcatenatedInputMap() );"
   ]
  },
  {
   "cell_type": "markdown",
   "id": "18869baf",
   "metadata": {},
   "source": [
    "`InputActionBindings` manages a chain of `InputMap`/`ActionMap` pairs.\n",
    "An `Actions` object encapsulates one such pair, and feeds new action definitions into it.\n",
    "We create a new `Actions` (the constructor arguments don't matter for now) ..."
   ]
  },
  {
   "cell_type": "code",
   "execution_count": 8,
   "id": "0f6c1a46",
   "metadata": {},
   "outputs": [],
   "source": [
    "import org.scijava.ui.behaviour.io.InputTriggerConfig;\n",
    "import org.scijava.ui.behaviour.util.Actions;\n",
    "\n",
    "var actions = new Actions( new InputTriggerConfig(), \"demo\" );"
   ]
  },
  {
   "cell_type": "markdown",
   "id": "eee4b8e4",
   "metadata": {},
   "source": [
    "... and we add the pair to our `InputActionBindings` under the name \"actions\"."
   ]
  },
  {
   "cell_type": "code",
   "execution_count": 9,
   "id": "f271f1a6",
   "metadata": {},
   "outputs": [],
   "source": [
    "actions.install( bindings, \"actions\" );"
   ]
  },
  {
   "cell_type": "markdown",
   "id": "b8a9d9b1",
   "metadata": {},
   "source": [
    "(We could use the name later to remove, replace, or temporarily block the `InputMap`/`ActionMap` pair.)\n",
    "\n",
    "The `actions` instance is now connected to the `panel` via `bindings`.\n",
    "We can finally use it to add new shortcuts."
   ]
  },
  {
   "cell_type": "code",
   "execution_count": 10,
   "id": "0b7be221",
   "metadata": {},
   "outputs": [],
   "source": [
    "actions.runnableAction(\n",
    "    () -> panel.setText( \"Action A triggered\" ),\n",
    "    \"Action A\",\n",
    "    \"SPACE\", \"A\" );"
   ]
  },
  {
   "cell_type": "markdown",
   "id": "35a9ff99",
   "metadata": {},
   "source": [
    "The `actions.runnableAction` method takes the following arguments\n",
    "```java\n",
    "public void runnableAction(\n",
    "    final Runnable runnable,\n",
    "    final String name,\n",
    "    final String... defaultKeyStrokes )\n",
    "```\n",
    "1. A Runnable to run when the action is triggered.\n",
    "2. A unique name for the action (this will be used as the actions key in the underlying `InputMap`/`ActionMap`.\n",
    "3. Zero or more keystrokes that should trigger the action.\n",
    "\n",
    "Here for example, the Runnable sets the text \"Action A triggered\" in the panel label.\n",
    "It is added under the name \"Action A\", and triggered by the \"SPACE\" key, or the \"A\" key by default.\n",
    "The [syntax for key strokes is described here](https://github.com/scijava/ui-behaviour/wiki/InputTrigger-syntax).\n",
    "\n",
    "Let's add a few more actions."
   ]
  },
  {
   "cell_type": "code",
   "execution_count": 11,
   "id": "9175be4f",
   "metadata": {},
   "outputs": [],
   "source": [
    "actions.runnableAction(\n",
    "    () -> panel.setText( \"Action B triggered\" ),\n",
    "    \"Action B\",\n",
    "    \"B\", \"shift B\" );\n",
    "actions.runnableAction(\n",
    "    () -> panel.setText( \"Action C triggered\" ),\n",
    "    \"Action C\",\n",
    "    \"1\", \"2\", \"3\", \"4\", \"5\", \"6\", \"7\", \"8\", \"9\", \"0\" );"
   ]
  },
  {
   "cell_type": "markdown",
   "id": "6854410a",
   "metadata": {},
   "source": [
    "Now we can use these defined shortcuts to run these three actions (which will change the text label to \"Action A/B/C triggered\".\n",
    "![MainPanel showing text \"Action A triggered\"](keymap_imgs/Action-A-triggered.png)\n",
    "You can find the full [example on github](https://github.com/tpietzsch/keyconfig-examples/blob/main/src/main/java/tpietzsch/Example1_SettingUpActions.java)."
   ]
  },
  {
   "cell_type": "markdown",
   "id": "97fd5e56",
   "metadata": {},
   "source": [
    "## Making shortcuts configurable\n",
    "\n",
    "Another goal of ui-behaviour is to make mouse and key bindings easily\n",
    "configurable *by the user* (for example through config files).\n",
    "\n",
    "This is the purpose of the `Actions` constructor arguments\n",
    "```java\n",
    "var action = new Actions( new InputTriggerConfig(), \"demo\" );\n",
    "```\n",
    "The first argument is a `InputTriggerConfig`, and after that one or\n",
    "more `String` contexts are given (more on that later).\n",
    "\n",
    "The `InputTriggerConfig` contains is basically a map from action names to key bindings.\n",
    "When adding a new action, for example like this:\n",
    "```java\n",
    "actions.runnableAction(\n",
    "    () -> mainPanel.setText( \"Action B triggered\" ),\n",
    "\t\"Action B\",\n",
    "\t\"B\", \"shift B\" );\n",
    "```\n",
    "then `actions` will first look into its `InputTriggerConfig` to check\n",
    "whether any key binding is associated with the respective action name (\"Action B\").\n",
    "If nothing is defined in the `InputTriggerConfig` then (and only then) the specified\n",
    "default key bindings will be used (`\"B\"` and `\"shift B\"`).\n",
    "\n",
    "### Loading shortcuts from a config file\n",
    "So far, we just used a new, empty `InputTriggerConfig`, meaning we just get the specified defaults, which is exactly what we want for prototyping.\n",
    "If the project becomes more mature, and we want to change the config from outside, we can load the `InputTriggerConfig` from a config file."
   ]
  },
  {
   "cell_type": "code",
   "execution_count": 12,
   "id": "241e57ef",
   "metadata": {},
   "outputs": [],
   "source": [
    "import org.scijava.ui.behaviour.io.yaml.YamlConfigIO;\n",
    "\n",
    "Reader reader = new FileReader( \"config.yaml\" );\n",
    "var config = new InputTriggerConfig( YamlConfigIO.read( reader ) );"
   ]
  },
  {
   "cell_type": "markdown",
   "id": "dddd9f96",
   "metadata": {},
   "source": [
    "The `config.yaml` file looks like this:\n",
    "```\n",
    "---\n",
    "- !mapping\n",
    "action: Action A\n",
    "contexts: [demo]\n",
    "triggers: [SPACE, A]\n",
    "- !mapping\n",
    "action: Action B\n",
    "contexts: [demo]\n",
    "triggers: [N]\n",
    "```\n",
    "The format should be more or less self-explanatory.\n",
    "\n",
    "The loaded `config` should now map the String `\"Action A\"` to the Set of Strings `{\"SPACE\", \"A\"}`, and `\"Action B\"` to `{\"N\"}`.\n",
    "We could set up `actions` with the loaded `config` in the constructor, and then define the same actions as in the previous example.\n",
    "\n",
    "Alternatively, we can just update the existing `Actions` with the new config."
   ]
  },
  {
   "cell_type": "code",
   "execution_count": 13,
   "id": "698b3bb3",
   "metadata": {},
   "outputs": [],
   "source": [
    "actions.updateKeyConfig(config, false);"
   ]
  },
  {
   "cell_type": "markdown",
   "id": "c9b3f1ef",
   "metadata": {},
   "source": [
    "The `config` contains bindings for \"Action A\" and \"Action B\". These will override the specified default bindings.\n",
    "So \"Action A\" will be triggered by the \"SPACE\" or \"A\" keys, and \"Action B\" will be triggered by \"N\".\n",
    "\n",
    "The `config` doesn't specify anything for \"Action C\", so that will be triggered by the programmatically specified defaults, that is, \"1\", \"2\", etc."
   ]
  },
  {
   "cell_type": "markdown",
   "id": "dcca8c22",
   "metadata": {},
   "source": [
    "### Action context\n",
    "Besides the `InputTriggerConfig`, the `Actions` constructor also requires one ore more `String... context` arguments.\n",
    "\n",
    "The idea is that the same action (or at least action name) might occur in\n",
    "different contexts, that is, different tools, different windows of the same\n",
    "tool, etc. For example, an action named \"Undo\" could occur in many contexts and\n",
    "it would be nice to be able to assign different shortcuts, depending on context.\n",
    "\n",
    "Therefore, an `InputTriggerConfig` does not directly map `action` to shortcuts, but\n",
    "rather maps `(action, context)` pairs to shortcuts, where `action` and `context`\n",
    "are both `String`s. So, for example, ``(\"Undo\", \"bdv\")`` can map to a different\n",
    "shortcut than `(\"Undo\", \"paintera\")`.\n",
    "\n",
    "The `context` arguments given in the `Actions` constructor specify which subsets\n",
    "of key bindings defined in the `InputTriggerConfig` should be considered.\n",
    "In the above example, we have\n",
    "```java\n",
    "var actions = new Actions( config, \"demo\" )\n",
    "```\n",
    "This `actions` will pick up bindings for `(\"Undo\", \"demo\")` from the config, but not `(\"Undo\", \"bdv\")` for example."
   ]
  },
  {
   "cell_type": "markdown",
   "id": "4657ac8a",
   "metadata": {},
   "source": [
    "### Disabled actions\n",
    "\n",
    "There is a special trigger `\"not mapped\"` that can be used to specify that a\n",
    "particular action should not be associated to any shortcut. For example, if we\n",
    "add\n",
    "```\n",
    "- !mapping\n",
    "action: Action C\n",
    "contexts: [demo]\n",
    "triggers: [not mapped]\n",
    "```\n",
    "to the `config.yaml` file, then \"Action C\" will be disabled, that is,\n",
    "the programmatic defaults \"1\", \"2\", etc., will not be used."
   ]
  },
  {
   "cell_type": "markdown",
   "id": "5a43f218",
   "metadata": {},
   "source": [
    "You can find the full [example on github](https://github.com/tpietzsch/keyconfig-examples/blob/main/src/main/java/tpietzsch/Example2_UsingConfigFiles.java)."
   ]
  },
  {
   "cell_type": "markdown",
   "id": "7323f9e3",
   "metadata": {},
   "source": [
    "## Configuring shortcuts through the UI\n",
    "\n",
    "Being able to define shortcuts through a config file is useful. The config files can be edited, and distributed between different users or computers.\n",
    "\n",
    "Even more comfortable is to be able to modify shortcuts directly through the UI, at runtime.\n",
    "\n",
    "### Preferences dialog\n",
    "For this, we use `bdv.ui.settings.SettingsPanel`. This panel implements a typical Preferences layout (like it's used in Eclipse, for example) with a tree of preferences sections on the left, the selected section on the right, and *Apply, Ok, Cancel* buttons on the bottom. \n",
    "\n",
    "The following `PrefererencesDialog` contains only the `SettingsPanel`, and a method `addPage()` to adds new sections (`bdv.ui.settings.SettingsPage`) to the preferences tree."
   ]
  },
  {
   "cell_type": "code",
   "execution_count": 14,
   "id": "b4283261",
   "metadata": {},
   "outputs": [],
   "source": [
    "/*\n",
    "#hide\n",
    "*/\n",
    "import java.awt.Frame;\n",
    "import java.awt.event.WindowAdapter;\n",
    "import java.awt.event.WindowEvent;\n",
    "\n",
    "import javax.swing.JDialog;\n",
    "import javax.swing.WindowConstants;"
   ]
  },
  {
   "cell_type": "code",
   "execution_count": 15,
   "id": "8124a4e4",
   "metadata": {},
   "outputs": [],
   "source": [
    "import bdv.ui.settings.SettingsPage;\n",
    "import bdv.ui.settings.SettingsPanel;\n",
    "\n",
    "public class PreferencesDialog extends JDialog\n",
    "{\n",
    "    private final SettingsPanel settingsPanel;\n",
    "\n",
    "    public PreferencesDialog( final Frame owner )\n",
    "    {\n",
    "        super( owner, \"Preferences\", false );\n",
    "        settingsPanel = new SettingsPanel();\n",
    "        settingsPanel.onOk( () -> setVisible( false ) );\n",
    "        settingsPanel.onCancel( () -> setVisible( false ) );\n",
    "\n",
    "        setDefaultCloseOperation( WindowConstants.HIDE_ON_CLOSE );\n",
    "        addWindowListener( new WindowAdapter()\n",
    "        {\n",
    "            @Override\n",
    "            public void windowClosing( final WindowEvent e )\n",
    "            {\n",
    "                settingsPanel.cancel();\n",
    "            }\n",
    "        } );\n",
    "\n",
    "        getContentPane().add( settingsPanel, BorderLayout.CENTER );\n",
    "        pack();\n",
    "    }\n",
    "\n",
    "    public void addPage( final SettingsPage page )\n",
    "    {\n",
    "        settingsPanel.addPage( page );\n",
    "        pack();\n",
    "    }\n",
    "}"
   ]
  },
  {
   "cell_type": "markdown",
   "id": "3a853351",
   "metadata": {},
   "source": [
    "Let's instantiate a `PreferencesDialog` for our example, and add a keyboard shortcut (command-comma or control-comma) to show it."
   ]
  },
  {
   "cell_type": "code",
   "execution_count": 16,
   "id": "ce302797",
   "metadata": {},
   "outputs": [],
   "source": [
    "var preferencesDialog = new PreferencesDialog( frame );\n",
    "actions.runnableAction(\n",
    "    () -> preferencesDialog.setVisible( !preferencesDialog.isVisible() ),\n",
    "    \"Preferences\",\n",
    "    \"meta COMMA\", \"ctrl COMMA\" );"
   ]
  },
  {
   "cell_type": "markdown",
   "id": "42b0783b",
   "metadata": {},
   "source": [
    "Next, we want to add a preferences section for configuring shortcuts.\n",
    "There is `bdv.ui.keymap.KeymapSettingsPage` that we can readily use.\n",
    "In the end this will give us something like this:\n",
    "![Keymap settings in the preferences dialog](keymap_imgs/keymap-prefs.png)\n",
    "What remains to be done is to fill the settings page with a list of configurable actions.\n",
    "\n",
    "### CommandDescriptions\n",
    "\n",
    "Specifially, we need to supply the `KeymapSettingsPage` with a list of existing actions, with short textual descriptions.\n",
    "This is done by creating a `CommandDescriptions` object and adding the configurable actions."
   ]
  },
  {
   "cell_type": "code",
   "execution_count": 17,
   "id": "7acf71c7",
   "metadata": {},
   "outputs": [],
   "source": [
    "import org.scijava.ui.behaviour.io.gui.CommandDescriptions;\n",
    "\n",
    "var descriptions = new CommandDescriptions();\n",
    "\n",
    "descriptions.setKeyconfigContext( \"demo\" );\n",
    "\n",
    "descriptions.add( \"Action A\", new String[] { \"SPACE\" }, \"trigger Action A\" );\n",
    "descriptions.add( \"Action B\", new String[] { \"B\", \"shift B\" }, \"trigger Action B\" );"
   ]
  },
  {
   "cell_type": "markdown",
   "id": "72365b0e",
   "metadata": {},
   "source": [
    "For each action, we add its name and default shortcuts in the same way we did when creating the action, and a short description (this is just for showing to the user, so can be left empty if you're lazy...).\n",
    "\n",
    "The other thing we need to supply to the `KeymapSettingsPage` is a `KeymapManager`.\n",
    "`KeymapManager` maintains a set of named `Keymaps` (some built-in, some user-defined).\n",
    "A `Keymap` is a simple container for a `InputTriggerConfig`, adding just a name and support for listeners to be notified when the `InputTriggerConfig` changes.\n",
    "\n",
    "Our `KeymapManager` extends the existing `AbstractKeymapManager` base class. The only thing that needs to be done is providing one or more default `Keymap`s. We can build a default keymap from the above `descriptions`. (But they could also be loaded from resources, build manually, ...)"
   ]
  },
  {
   "cell_type": "code",
   "execution_count": 18,
   "id": "41afa265",
   "metadata": {},
   "outputs": [],
   "source": [
    "import bdv.ui.keymap.AbstractKeymapManager;\n",
    "import bdv.ui.keymap.Keymap;\n",
    "\n",
    "var defaultKeymap = new Keymap( \"Default\", descriptions.createDefaultKeyconfig() );\n",
    "\n",
    "/**\n",
    " * Manages a collection of {@link Keymap}.\n",
    " */\n",
    "public class KeymapManager extends AbstractKeymapManager< KeymapManager >\n",
    "{\n",
    "    @Override\n",
    "    protected List< Keymap > loadBuiltinStyles()\n",
    "    {\n",
    "        return Collections.singletonList( defaultKeymap );\n",
    "    }\n",
    "\n",
    "    @Override\n",
    "    public void saveStyles()\n",
    "    {\n",
    "        // not implemented.\n",
    "        // Here we would save user defined keymaps to YAML files, for example.\n",
    "    }\n",
    "}"
   ]
  },
  {
   "cell_type": "markdown",
   "id": "4a843602",
   "metadata": {},
   "source": [
    "We create a `KeyMapManager` instance and add it to the Preferences dialog (via `KeymapSettingsPage`)."
   ]
  },
  {
   "cell_type": "code",
   "execution_count": 19,
   "id": "a5099212",
   "metadata": {},
   "outputs": [],
   "source": [
    "import bdv.ui.keymap.KeymapSettingsPage;\n",
    "\n",
    "var keymapManager = new KeymapManager();\n",
    "preferencesDialog.addPage(\n",
    "        new KeymapSettingsPage( \"Keymap\", keymapManager, new KeymapManager(), descriptions ) );"
   ]
  },
  {
   "cell_type": "markdown",
   "id": "1cf2d53e",
   "metadata": {},
   "source": [
    "The `KeyMapManager` (via its base class) exposes the user-selected keymap.\n",
    "We set that for our `actions` object.\n",
    "We also add a listener that refreshes `actions` keybinding when that keymap changes."
   ]
  },
  {
   "cell_type": "code",
   "execution_count": 20,
   "id": "28c7f754",
   "metadata": {},
   "outputs": [
    {
     "data": {
      "text/plain": [
       "true"
      ]
     },
     "execution_count": 20,
     "metadata": {},
     "output_type": "execute_result"
    }
   ],
   "source": [
    "var keymap = keymapManager.getForwardSelectedKeymap();\n",
    "actions.updateKeyConfig( keymap.getConfig(), false );\n",
    "keymap.updateListeners().add(\n",
    "    () -> actions.updateKeyConfig( keymap.getConfig(), false )\n",
    ");"
   ]
  },
  {
   "cell_type": "markdown",
   "id": "ef252b78",
   "metadata": {},
   "source": [
    "That's it. The user can now use the Preferences dialog to define custom keymaps with shortcuts to their liking, and switch between different keymaps. (Use command-comma or control-comma to show the preferences dialog).\n",
    "\n",
    "You can find the full [example on github](https://github.com/tpietzsch/keyconfig-examples/blob/main/src/main/java/tpietzsch/Example3_PreferencesDialog.java)."
   ]
  },
  {
   "cell_type": "markdown",
   "id": "9e5a63e3",
   "metadata": {},
   "source": [
    "## Making action descriptions discoverable\n",
    "\n",
    "Keeping the list of existing actions (that is, the `CommandDescriptions`) up to date is tedious. Actions that should appear in the config dialog may be scattered through your own code and dependencies.\n",
    "This can be somewhat automated with `CommandDescriptionProvider`s. These are scijava `@Plugin`s that can be discovered at runtime."
   ]
  },
  {
   "cell_type": "code",
   "execution_count": 21,
   "id": "a985620f",
   "metadata": {},
   "outputs": [],
   "source": [
    "import org.scijava.plugin.Plugin;\n",
    "import org.scijava.ui.behaviour.io.gui.CommandDescriptionProvider;\n",
    "\n",
    "var DEMO_SCOPE = new CommandDescriptionProvider.Scope( \"tpietzsch.keymap\" );\n",
    "var DEMO_CONTEXT = \"demo\";\n",
    "\n",
    "/*\n",
    " * Command descriptions for all provided commands\n",
    " */\n",
    "@Plugin( type = CommandDescriptionProvider.class )\n",
    "public static class MyActionDescriptions extends CommandDescriptionProvider\n",
    "{\n",
    "    public MyActionDescriptions()\n",
    "    {\n",
    "        super( DEMO_SCOPE, DEMO_CONTEXT );\n",
    "    }\n",
    "\n",
    "    @Override\n",
    "    public void getCommandDescriptions( final CommandDescriptions descriptions )\n",
    "    {\n",
    "        descriptions.add( \"Action A\", new String[] { \"SPACE\" }, \"trigger Action A\" );\n",
    "        descriptions.add( \"Action B\", new String[] { \"B\", \"shift B\" }, \"trigger Action B\" );\n",
    "    }\n",
    "}"
   ]
  },
  {
   "cell_type": "markdown",
   "id": "7693cba1",
   "metadata": {},
   "source": [
    "For discovery, we use a `CommandDescriptionsBuilder`"
   ]
  },
  {
   "cell_type": "code",
   "execution_count": 22,
   "id": "a5f06ad5",
   "metadata": {},
   "outputs": [],
   "source": [
    "import org.scijava.Context;\n",
    "import org.scijava.plugin.PluginService;\n",
    "import org.scijava.ui.behaviour.io.gui.CommandDescriptionsBuilder;\n",
    "\n",
    "var context = new Context( PluginService.class );\n",
    "var builder = new CommandDescriptionsBuilder();\n",
    "context.inject( builder );\n",
    "\n",
    "builder.discoverProviders( DEMO_SCOPE );"
   ]
  },
  {
   "cell_type": "markdown",
   "id": "2708afc7",
   "metadata": {},
   "source": [
    "Note the use of `DEMO_SCOPE` here. The same scope is also given in the `MyActionDescriptions` constructor. The `discoverProviders()` method takes an optional scope argument, and will only discover `CommandDescriptionProvider` that match this scope. If no scope is given, all `CommandDescriptionProvider` on the classpath will be discovered. For example within Fiji, that would include actions from Mastodon and BigDataViewer.\n",
    "\n",
    "Unfortunately, the `@Plugin` annotations do not work for classes defined in JShell (used by this notebook). As a workaround, we can add `MyActionDescriptions` manually."
   ]
  },
  {
   "cell_type": "code",
   "execution_count": 23,
   "id": "d372e92d",
   "metadata": {},
   "outputs": [],
   "source": [
    "builder.addManually( new MyActionDescriptions(), DEMO_CONTEXT );"
   ]
  },
  {
   "cell_type": "markdown",
   "id": "368c74da",
   "metadata": {},
   "source": [
    "After we add everything we need to the builder, we can get the `Descriptions`."
   ]
  },
  {
   "cell_type": "code",
   "execution_count": 24,
   "id": "258377a7",
   "metadata": {},
   "outputs": [],
   "source": [
    "var descriptions = builder.build();"
   ]
  },
  {
   "cell_type": "markdown",
   "id": "f5f03393",
   "metadata": {},
   "source": [
    "You can find the full [example on github](https://github.com/tpietzsch/keymap-idiom/blob/main/src/main/java/tpietzsch/Example4_DiscoveringActions.java)."
   ]
  },
  {
   "cell_type": "markdown",
   "id": "b0450f8b",
   "metadata": {},
   "source": [
    "## Recommended pattern for defining actions"
   ]
  },
  {
   "cell_type": "markdown",
   "id": "dd6567bb",
   "metadata": {},
   "source": [
    "Action definitions in BigDataViewer and Mastodon are organized in the following way.\n",
    "\n",
    "A set of related actions is collected into a `MyActions` (for example) class.\n",
    "Action names and default shortcuts are defined as `public static final` constants, because they are used both for defining the actions, and for creating action `Descriptions`.\n",
    "\n",
    "The actions contained in `MyActions` are described in a `public static` inner class `Descriptions extends CommandDescriptionProvider`.\n",
    "\n",
    "In the `Descriptions` constructor, we give a scope for the respective library / tool.\n",
    "Ideally, the scope should be defined `public static` somewhere so that is can easily used outside the component to discover its actions.\n",
    "For example, BigDataViewer uses [this scope](https://github.com/bigdataviewer/bigdataviewer-core/blob/5ee31596be002fc15502c4a5ffc08a888f12921b/src/main/java/bdv/KeyConfigScopes.java#L38).\n",
    "If another tool (BigStitcher, BigWarp, etc.) wants to include BDV shortcuts into its customizable keymaps, they can be easily discovered like that."
   ]
  },
  {
   "cell_type": "code",
   "execution_count": 25,
   "id": "e5e42022",
   "metadata": {},
   "outputs": [],
   "source": [
    "import org.scijava.plugin.Plugin;\n",
    "import org.scijava.ui.behaviour.io.gui.CommandDescriptionProvider;\n",
    "\n",
    "final var DEMO_SCOPE = new CommandDescriptionProvider.Scope( \"tpietzsch.keymap-idiom\" );\n",
    "final var DEMO_CONTEXT = \"demo\";\n",
    "\n",
    "public class MyActions\n",
    "{\n",
    "    // define action name constants\n",
    "    public static final String ACTION_A = \"Action A\";\n",
    "    public static final String ACTION_B = \"Action B\";\n",
    "    public static final String PREFERENCES = \"Preferences\";\n",
    "\n",
    "    // define default shortcut constants\n",
    "    public static final String[] ACTION_A_KEYS = { \"SPACE\" };\n",
    "\n",
    "    public static final String[] ACTION_B_KEYS = { \"B\", \"shift B\" };\n",
    "    public static final String[] PREFERENCES_KEYS = { \"meta COMMA\", \"ctrl COMMA\" };\n",
    "\n",
    "\n",
    "    /*\n",
    "     * Command descriptions for all provided commands\n",
    "     */\n",
    "    @Plugin( type = CommandDescriptionProvider.class )\n",
    "    public static class Descriptions extends CommandDescriptionProvider\n",
    "    {\n",
    "        public Descriptions()\n",
    "        {\n",
    "            super( DEMO_SCOPE, DEMO_CONTEXT );\n",
    "        }\n",
    "\n",
    "        @Override\n",
    "        public void getCommandDescriptions( final CommandDescriptions descriptions )\n",
    "        {\n",
    "            descriptions.add( ACTION_A, ACTION_A_KEYS, \"trigger Action A\" );\n",
    "            descriptions.add( ACTION_B, ACTION_B_KEYS, \"trigger Action B\" );\n",
    "            descriptions.add( PREFERENCES, PREFERENCES_KEYS, \"Show the Preferences dialog.\" );\n",
    "        }\n",
    "    }\n",
    "\n",
    "    \n",
    "    /**\n",
    "     * Install into the specified {@link Actions}.\n",
    "     */\n",
    "    public static void install( final Actions actions, final MainPanel mainPanel, final PreferencesDialog preferencesDialog )\n",
    "    {\n",
    "        actions.runnableAction( () -> mainPanel.setText( \"Action A triggered\" ),\n",
    "                ACTION_A, ACTION_A_KEYS );\n",
    "        actions.runnableAction( () -> mainPanel.setText( \"Action B triggered\" ),\n",
    "                ACTION_B, ACTION_B_KEYS );\n",
    "        actions.runnableAction( () -> preferencesDialog.setVisible( !preferencesDialog.isVisible() ),\n",
    "                PREFERENCES, PREFERENCES_KEYS );\n",
    "    }\n",
    "}"
   ]
  },
  {
   "cell_type": "markdown",
   "id": "0120553f",
   "metadata": {},
   "source": [
    "`MyActions` contains one `install` method that installs all actions into a provided `Actions` argument.\n",
    "Ideally, `MyActions` is stateless, and `install` method is `static`.\n",
    "\n",
    "The remaining arguments to `install` are whatever is needed to create the actions.\n",
    "In the example, the `mainPanel` is needed to create \"Action A\" and \"Action B\", and the `preferencesDialog` is needed to create the action to show/hide it.\n",
    "\n",
    "So, `MyActions.install(...)` is called to install into a provided `Actions`.\n",
    "Usually every frame/panel in the application should have an `Actions` instance, which is linked to the `KeymapManager` so that keymap updates propagate correctly.\n",
    "\n",
    "\n",
    "And that's it...\n",
    "This is currently the recommended way to structure and bundle action definitions.\n",
    "You can find the full [example on github](https://github.com/tpietzsch/keymap-idiom/blob/main/src/main/java/tpietzsch/RecommendedPattern.java). \n",
    "\n",
    "See BigDataViewer's [NavigationActions](https://github.com/bigdataviewer/bigdataviewer-core/blob/6d3c9b1904ff9e6e1617c2810c595c15080764c5/src/main/java/bdv/viewer/NavigationActions.java) as an example \"in the wild\".\n",
    "For behaviours (mouse gestures, etc.) the structure is the same. See BigDataViewer's [TransformEventHandler2D](https://github.com/bigdataviewer/bigdataviewer-core/blob/d65e530df8a27726509f477e92c888d280b98162/src/main/java/bdv/TransformEventHandler2D.java) for example."
   ]
  },
  {
   "cell_type": "code",
   "execution_count": null,
   "id": "fb26c656",
   "metadata": {},
   "outputs": [],
   "source": []
  }
 ],
 "metadata": {
  "kernelspec": {
   "display_name": "Java",
   "language": "java",
   "name": "java"
  },
  "language_info": {
   "codemirror_mode": "java",
   "file_extension": ".jshell",
   "mimetype": "text/x-java-source",
   "name": "Java",
   "pygments_lexer": "java",
   "version": "17.0.3+7-LTS"
  }
 },
 "nbformat": 4,
 "nbformat_minor": 5
}
