{
 "cells": [
  {
   "cell_type": "markdown",
   "id": "62e9d321",
   "metadata": {},
   "source": [
    "# Juliaset Lambda\n",
    "> Interactively render the Juliaset as a lambda function in BigDataViewer\n",
    "\n",
    "- toc: false\n",
    "- branch: master\n",
    "- badges: true\n",
    "- comments: true\n",
    "- author: Stephan Saalfeld\n",
    "- categories: [imglib2, lambda, fractal, juliaset, bigdataviewer]"
   ]
  },
  {
   "cell_type": "markdown",
   "id": "8f9cd020",
   "metadata": {},
   "source": [
    "Import dependencies.  BigDataViewer Vistools is the convenience API that we use to display the results of our experiments and it includes all ImgLib2 related dependencies that we need."
   ]
  },
  {
   "cell_type": "code",
   "execution_count": 1,
   "id": "022c1ef4",
   "metadata": {},
   "outputs": [],
   "source": [
    "%%loadFromPOM\n",
    "<repository>\n",
    "    <id>scijava.public</id>\n",
    "    <url>https://maven.scijava.org/content/groups/public</url>\n",
    "</repository>\n",
    "<dependency>\n",
    "    <groupId>sc.fiji</groupId>\n",
    "    <artifactId>bigdataviewer-vistools</artifactId>\n",
    "    <version>1.0.0-beta-29</version>\n",
    "</dependency>"
   ]
  },
  {
   "cell_type": "markdown",
   "id": "ed14d7de",
   "metadata": {},
   "source": [
    "We define the Juliaset as a function in 2D real space using a `BiConsumer` lambda.  The `BiConsumer` receives two parameters, the first one (x) is the 2D coordinate, the second one (y) is the target of the function whose value will be set in place, here we use an `IntType`.  We also have to provide a `Supplier` for instances of the target such that multiple threads can each create their own."
   ]
  },
  {
   "cell_type": "code",
   "execution_count": 5,
   "id": "aa5eab5d",
   "metadata": {},
   "outputs": [],
   "source": [
    "import bdv.util.*;\n",
    "import net.imglib2.position.FunctionRealRandomAccessible;\n",
    "import net.imglib2.type.numeric.integer.IntType;\n",
    "import net.imglib2.util.Intervals;\n",
    "\n",
    "var juliaset = new FunctionRealRandomAccessible<>(\n",
    "    2,\n",
    "    (x, y) -> {\n",
    "        int i = 0;\n",
    "        double v = 0, c = x.getDoublePosition(0), d = x.getDoublePosition(1);\n",
    "        for (; i < 127 && v < 4096; ++i) {\n",
    "            final double e = c * c - d * d;\n",
    "            d = 2 * c * d;\n",
    "            c = e + 0.2;\n",
    "            d += 0.6;\n",
    "            v = Math.sqrt(c * c + d * d);\n",
    "            ++i;\n",
    "        }\n",
    "        y.set(i);\n",
    "    },\n",
    "    IntType::new);"
   ]
  },
  {
   "cell_type": "markdown",
   "id": "ee418682",
   "metadata": {},
   "source": [
    "Now we show this function with BigDataViewer.  Use your mouse and keyboard to zoom in until you reach the precision limit of `double`."
   ]
  },
  {
   "cell_type": "code",
   "execution_count": 7,
   "id": "8ea0930a",
   "metadata": {},
   "outputs": [],
   "source": [
    "BdvFunctions.show(\n",
    "    juliaset,\n",
    "    Intervals.createMinMax(-1, -1, 1, 1),\n",
    "    \"\",\n",
    "    BdvOptions.options().is2D()).setDisplayRange(0, 127);"
   ]
  },
  {
   "cell_type": "markdown",
   "id": "a912091d",
   "metadata": {},
   "source": [
    "Cool?  I think so!  Now let's embed one of the two parameters of the Juliaset as a third dimension.  The code is almost the same except that we introduce a a variable a."
   ]
  },
  {
   "cell_type": "code",
   "execution_count": 12,
   "id": "9b7a742d",
   "metadata": {},
   "outputs": [],
   "source": [
    "var juliaset3 = new FunctionRealRandomAccessible<>(\n",
    "    3,\n",
    "    (x, y) -> {\n",
    "        int i = 0;\n",
    "        double v = 0, c = x.getDoublePosition(0), d = x.getDoublePosition(1), a = x.getDoublePosition(2);\n",
    "        for (; i < 127 && v < 4096; ++i) {\n",
    "            final double e = c * c - d * d;\n",
    "            d = 2 * c * d;\n",
    "            c = e + a;\n",
    "            d += 0.6;\n",
    "            v = Math.sqrt(c * c + d * d);\n",
    "            ++i;\n",
    "        }\n",
    "        y.set(i);\n",
    "    },\n",
    "    IntType::new);"
   ]
  },
  {
   "cell_type": "markdown",
   "id": "1541438b",
   "metadata": {},
   "source": [
    "And now we show this as a 3D volume in BigDataViewer.  You can scroll through the 'z'-dimension or arbitrarily slice through the 3D volume."
   ]
  },
  {
   "cell_type": "code",
   "execution_count": 11,
   "id": "a13cbad9",
   "metadata": {},
   "outputs": [],
   "source": [
    "BdvFunctions.show(\n",
    "    juliaset3,\n",
    "    Intervals.createMinMax(-1, -1, -1, 1, 1, 1),\n",
    "    \"Juliaset3\",\n",
    "    BdvOptions.options()).setDisplayRange(0, 127);"
   ]
  }
 ],
 "metadata": {
  "kernelspec": {
   "display_name": "Java",
   "language": "java",
   "name": "java"
  },
  "language_info": {
   "codemirror_mode": "java",
   "file_extension": ".jshell",
   "mimetype": "text/x-java-source",
   "name": "Java",
   "pygments_lexer": "java",
   "version": "11.0.13+7-b1751.21"
  }
 },
 "nbformat": 4,
 "nbformat_minor": 5
}
